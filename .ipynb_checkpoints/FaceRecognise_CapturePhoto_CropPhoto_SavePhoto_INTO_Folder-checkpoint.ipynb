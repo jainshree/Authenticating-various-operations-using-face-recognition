{
 "cells": [
  {
   "cell_type": "code",
   "execution_count": 23,
   "metadata": {},
   "outputs": [],
   "source": [
    "# importing library\n",
    "import cv2"
   ]
  },
  {
   "cell_type": "code",
   "execution_count": 24,
   "metadata": {},
   "outputs": [],
   "source": [
    "#loading haarcascade model : used for detect human face\n",
    "model_har = cv2.CascadeClassifier('haarcascade_frontalface_default.xml')"
   ]
  },
  {
   "cell_type": "code",
   "execution_count": 25,
   "metadata": {},
   "outputs": [
    {
     "name": "stderr",
     "output_type": "stream",
     "text": [
      "<>:7: SyntaxWarning: \"is\" with a literal. Did you mean \"==\"?\n",
      "<>:7: SyntaxWarning: \"is\" with a literal. Did you mean \"==\"?\n",
      "<ipython-input-25-f9d592846712>:7: SyntaxWarning: \"is\" with a literal. Did you mean \"==\"?\n",
      "  if faces is ():\n"
     ]
    }
   ],
   "source": [
    "# defining function for crop the face\n",
    "# If no face detected, it returns NONE\n",
    "def cropface(img):\n",
    "    #detecting the face\n",
    "    faces = model_har.detectMultiScale(img,1.3,5)\n",
    "    \n",
    "    if faces is ():\n",
    "        return None\n",
    "    \n",
    "    # Crop faces found\n",
    "    for (x,y,w,h) in faces:\n",
    "        cropped_face = img[y:y+h, x:x+w]\n",
    "        \n",
    "    return cropped_face\n",
    "\n"
   ]
  },
  {
   "cell_type": "markdown",
   "metadata": {},
   "source": [
    "# Collecting Live Captured  Image Dataset Of Shrishti"
   ]
  },
  {
   "cell_type": "code",
   "execution_count": 38,
   "metadata": {},
   "outputs": [],
   "source": [
    "# Initialize Webcam\n",
    "cap = cv2.VideoCapture(0)\n",
    "count = 0\n",
    "\n",
    "# Collecting 100 samples of my face from webcam input\n",
    "while True:\n",
    "    #reading image\n",
    "    ret, frame = cap.read()\n",
    "    if cropface(frame) is not None:\n",
    "        count += 1\n",
    "        #resizing crop image\n",
    "        face = cv2.resize(cropface(frame), (200, 200))\n",
    "        #changing color of image to grey\n",
    "        face = cv2.cvtColor(face, cv2.COLOR_BGR2GRAY)\n",
    "\n",
    "        # Save file in specified Shrishtidirectory with unique name\n",
    "        file_path = './Images/Shrishti/' + str(count) + '.jpg'\n",
    "        cv2.imwrite(file_path, face)\n",
    "\n",
    "        # Put count on images and displaying live count\n",
    "        cv2.putText(face, str(count), (50, 50), cv2.FONT_HERSHEY_PLAIN, 1, (0,255,0), 2)\n",
    "        cv2.imshow('Face Cropper', face)\n",
    "        \n",
    "    else:\n",
    "        print(\"Face not found\")\n",
    "        pass\n",
    "\n",
    "    if cv2.waitKey(1) == 13 or count == 100: #13 is the Enter Key\n",
    "        break\n",
    "        \n",
    "cap.release()\n",
    "cv2.destroyAllWindows()"
   ]
  },
  {
   "cell_type": "markdown",
   "metadata": {},
   "source": [
    "# Training Model With Shrishti Image Dataset"
   ]
  },
  {
   "cell_type": "code",
   "execution_count": 39,
   "metadata": {},
   "outputs": [
    {
     "name": "stdout",
     "output_type": "stream",
     "text": [
      "Model trained successfully\n"
     ]
    }
   ],
   "source": [
    "#importing library\n",
    "import numpy as np\n",
    "from os import listdir\n",
    "from os.path import isfile,join\n",
    "\n",
    "#getting data which previously made\n",
    "data_path = './Images/Shrishti/'\n",
    "onlyfiles = [f for f in listdir(data_path) if isfile(join(data_path,f))]\n",
    "\n",
    "#Create arrays for training data and labels\n",
    "Training_Data , Lables = [],[]\n",
    "\n",
    "#open training images in our datapath\n",
    "#create a numpy array for training data\n",
    "\n",
    "for i,files in enumerate(onlyfiles):\n",
    "    image_path = data_path + onlyfiles[i]\n",
    "    images = cv2.imread(image_path,cv2.IMREAD_GRAYSCALE)\n",
    "    Training_Data.append(np.asarray(images,dtype=np.uint8))\n",
    "    Lables.append(i)\n",
    "    \n",
    "#create a numpy array for both training data and Labels\n",
    "Labels = np.asarray(Lables,dtype=np.int32)\n",
    "\n",
    "Shrishti_model  = cv2.face_LBPHFaceRecognizer.create()\n",
    "# Let's train our model \n",
    "Shrishti_model.train(np.asarray(Training_Data), np.asarray(Labels))\n",
    "\n",
    "print(\"Model trained successfully\")"
   ]
  },
  {
   "cell_type": "markdown",
   "metadata": {},
   "source": [
    "# Saving Shrishti model into the file"
   ]
  },
  {
   "cell_type": "code",
   "execution_count": 40,
   "metadata": {},
   "outputs": [],
   "source": [
    "#saving model\n",
    "Shrishti_model.save('./Shrishti_model.h5')"
   ]
  },
  {
   "cell_type": "markdown",
   "metadata": {},
   "source": [
    "# Collecting Live Captured Image Dataset Of Laveena"
   ]
  },
  {
   "cell_type": "code",
   "execution_count": 28,
   "metadata": {},
   "outputs": [],
   "source": [
    "cap = cv2.VideoCapture(0)\n",
    "count = 0\n",
    "\n",
    "# Collecting 100 samples of my face from webcam input\n",
    "while True:\n",
    "    #reading image\n",
    "    ret, frame = cap.read()\n",
    "    if cropface(frame) is not None:\n",
    "        count += 1\n",
    "        #resizing crop image\n",
    "        face = cv2.resize(cropface(frame), (200, 200))\n",
    "        #changing color of image to grey\n",
    "        face = cv2.cvtColor(face, cv2.COLOR_BGR2GRAY)\n",
    "\n",
    "        # Save file in specified directory with unique name\n",
    "        file_path = './Images/Laveena/' + str(count) + '.jpg'\n",
    "        cv2.imwrite(file_path, face)\n",
    "\n",
    "        # Put count on images and displaying live count\n",
    "        cv2.putText(face, str(count), (50, 50), cv2.FONT_HERSHEY_PLAIN, 1, (0,255,0), 2)\n",
    "        cv2.imshow('Face Cropper', face)\n",
    "        \n",
    "    else:\n",
    "        print(\"Face not found\")\n",
    "        pass\n",
    "\n",
    "    if cv2.waitKey(1) == 13 or count == 100: #13 is the Enter Key\n",
    "        break\n",
    "        \n",
    "cap.release()\n",
    "cv2.destroyAllWindows()"
   ]
  },
  {
   "cell_type": "markdown",
   "metadata": {},
   "source": [
    "# Training Model With Laveena Image Dataset"
   ]
  },
  {
   "cell_type": "code",
   "execution_count": 29,
   "metadata": {},
   "outputs": [
    {
     "name": "stdout",
     "output_type": "stream",
     "text": [
      "Model trained successfully\n"
     ]
    }
   ],
   "source": [
    "#importing library\n",
    "import numpy as np\n",
    "from os import listdir\n",
    "from os.path import isfile,join\n",
    "\n",
    "#getting data which previously made\n",
    "data_path = './Images/Laveena/'\n",
    "onlyfiles = [f for f in listdir(data_path) if isfile(join(data_path,f))]\n",
    "\n",
    "#Create arrays for training data and labels\n",
    "Training_Data , Lables = [],[]\n",
    "\n",
    "#open training images in our datapath\n",
    "#create a numpy array for training data\n",
    "\n",
    "for i,files in enumerate(onlyfiles):\n",
    "    image_path = data_path + onlyfiles[i]\n",
    "    images = cv2.imread(image_path,cv2.IMREAD_GRAYSCALE)\n",
    "    Training_Data.append(np.asarray(images,dtype=np.uint8))\n",
    "    Lables.append(i)\n",
    "    \n",
    "#create a numpy array for both training data and Labels\n",
    "Labels = np.asarray(Lables,dtype=np.int32)\n",
    "\n",
    "Laveena_model  = cv2.face_LBPHFaceRecognizer.create()\n",
    "# Let's train our model \n",
    "Laveena_model.train(np.asarray(Training_Data), np.asarray(Labels))\n",
    "\n",
    "print(\"Model trained successfully\")"
   ]
  },
  {
   "cell_type": "markdown",
   "metadata": {},
   "source": [
    "# Saving Laveena model into the file"
   ]
  },
  {
   "cell_type": "code",
   "execution_count": 30,
   "metadata": {},
   "outputs": [],
   "source": [
    "#saving model\n",
    "Laveena_model.save('./Laveena_model.h5')"
   ]
  },
  {
   "cell_type": "markdown",
   "metadata": {},
   "source": [
    "# Collecting Live Captured Image Dataset Of Tanushree"
   ]
  },
  {
   "cell_type": "code",
   "execution_count": 34,
   "metadata": {},
   "outputs": [],
   "source": [
    "cap = cv2.VideoCapture(0)\n",
    "count = 0\n",
    "\n",
    "# Collecting 100 samples of my face from webcam input\n",
    "while True:\n",
    "    #reading image\n",
    "    ret, frame = cap.read()\n",
    "    if cropface(frame) is not None:\n",
    "        count += 1\n",
    "        #resizing crop image\n",
    "        face = cv2.resize(cropface(frame), (200, 200))\n",
    "        #changing color of image to grey\n",
    "        face = cv2.cvtColor(face, cv2.COLOR_BGR2GRAY)\n",
    "\n",
    "        # Save file in specified directory with unique name\n",
    "        file_path = './Images/Tanushree/' + str(count) + '.jpg'\n",
    "        cv2.imwrite(file_path, face)\n",
    "\n",
    "        # Put count on images and displaying live count\n",
    "        cv2.putText(face, str(count), (50, 50), cv2.FONT_HERSHEY_PLAIN, 1, (0,255,0), 2)\n",
    "        cv2.imshow('Face Cropper', face)\n",
    "        \n",
    "    else:\n",
    "        print(\"Face not found\")\n",
    "        pass\n",
    "\n",
    "    if cv2.waitKey(1) == 13 or count == 100: #13 is the Enter Key\n",
    "        break\n",
    "        \n",
    "cap.release()\n",
    "cv2.destroyAllWindows()"
   ]
  },
  {
   "cell_type": "markdown",
   "metadata": {},
   "source": [
    "# Training Model With Tanushree Image Dataset"
   ]
  },
  {
   "cell_type": "code",
   "execution_count": 35,
   "metadata": {},
   "outputs": [
    {
     "name": "stdout",
     "output_type": "stream",
     "text": [
      "Model trained successfully\n"
     ]
    }
   ],
   "source": [
    "#importing library\n",
    "import numpy as np\n",
    "from os import listdir\n",
    "from os.path import isfile,join\n",
    "\n",
    "#getting data which previously made\n",
    "data_path = './Images/Tanushree/'\n",
    "onlyfiles = [f for f in listdir(data_path) if isfile(join(data_path,f))]\n",
    "\n",
    "#Create arrays for training data and labels\n",
    "Training_Data , Lables = [],[]\n",
    "\n",
    "#open training images in our datapath\n",
    "#create a numpy array for training data\n",
    "\n",
    "for i,files in enumerate(onlyfiles):\n",
    "    image_path = data_path + onlyfiles[i]\n",
    "    images = cv2.imread(image_path,cv2.IMREAD_GRAYSCALE)\n",
    "    Training_Data.append(np.asarray(images,dtype=np.uint8))\n",
    "    Lables.append(i)\n",
    "    \n",
    "#create a numpy array for both training data and Labels\n",
    "Labels = np.asarray(Lables,dtype=np.int32)\n",
    "\n",
    "Tanushree_model  = cv2.face_LBPHFaceRecognizer.create()\n",
    "# Let's train our model \n",
    "Tanushree_model.train(np.asarray(Training_Data), np.asarray(Labels))\n",
    "\n",
    "print(\"Model trained successfully\")"
   ]
  },
  {
   "cell_type": "markdown",
   "metadata": {},
   "source": [
    "# Saving Tanushree model into the file"
   ]
  },
  {
   "cell_type": "code",
   "execution_count": 36,
   "metadata": {},
   "outputs": [],
   "source": [
    "#saving model\n",
    "Tanushree_model.save('./Tanushree_model.h5')"
   ]
  },
  {
   "cell_type": "code",
   "execution_count": null,
   "metadata": {},
   "outputs": [],
   "source": []
  },
  {
   "cell_type": "code",
   "execution_count": null,
   "metadata": {},
   "outputs": [],
   "source": []
  }
 ],
 "metadata": {
  "kernelspec": {
   "display_name": "Python 3",
   "language": "python",
   "name": "python3"
  },
  "language_info": {
   "codemirror_mode": {
    "name": "ipython",
    "version": 3
   },
   "file_extension": ".py",
   "mimetype": "text/x-python",
   "name": "python",
   "nbconvert_exporter": "python",
   "pygments_lexer": "ipython3",
   "version": "3.8.3"
  }
 },
 "nbformat": 4,
 "nbformat_minor": 4
}
