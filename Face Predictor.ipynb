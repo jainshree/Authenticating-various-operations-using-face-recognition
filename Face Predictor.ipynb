{
 "cells": [
  {
   "cell_type": "code",
   "execution_count": 1,
   "metadata": {},
   "outputs": [],
   "source": [
    "#importing library\n",
    "import cv2\n",
    "import os\n",
    "from All_Functions import *"
   ]
  },
  {
   "cell_type": "code",
   "execution_count": 2,
   "metadata": {},
   "outputs": [],
   "source": [
    "#using haarcascade model doing face detection\n",
    "model_har = cv2.CascadeClassifier('haarcascade_frontalface_default.xml')"
   ]
  },
  {
   "cell_type": "code",
   "execution_count": 3,
   "metadata": {},
   "outputs": [],
   "source": [
    "#loading model for Shrishti face\n",
    "Shrishti_model = cv2.face_LBPHFaceRecognizer.create()\n",
    "Shrishti_model.read('./Shrishti_model.h5')"
   ]
  },
  {
   "cell_type": "code",
   "execution_count": 4,
   "metadata": {},
   "outputs": [],
   "source": [
    "#loading model for Laveena face\n",
    "Laveena_model = cv2.face_LBPHFaceRecognizer.create()\n",
    "Laveena_model.read('./Laveena_model.h5')"
   ]
  },
  {
   "cell_type": "code",
   "execution_count": 5,
   "metadata": {},
   "outputs": [],
   "source": [
    "#loading model for Tanushree face\n",
    "Tanushree_model = cv2.face_LBPHFaceRecognizer.create()\n",
    "Tanushree_model.read('./Tanushree_model.h5')"
   ]
  },
  {
   "cell_type": "code",
   "execution_count": 6,
   "metadata": {},
   "outputs": [
    {
     "name": "stderr",
     "output_type": "stream",
     "text": [
      "<>:7: SyntaxWarning: \"is\" with a literal. Did you mean \"==\"?\n",
      "<>:7: SyntaxWarning: \"is\" with a literal. Did you mean \"==\"?\n",
      "<ipython-input-6-d34868e27b49>:7: SyntaxWarning: \"is\" with a literal. Did you mean \"==\"?\n",
      "  if faces is ():\n"
     ]
    }
   ],
   "source": [
    "#function for cropping the face\n",
    "def cropface(img):\n",
    "    \n",
    "    # Convert image to grayscale\n",
    "    gray = cv2.cvtColor(img,cv2.COLOR_BGR2GRAY)\n",
    "    faces = model_har.detectMultiScale(gray, 1.3, 5)\n",
    "    if faces is ():\n",
    "        return img\n",
    "     \n",
    "    for (x,y,w,h) in faces:\n",
    "        cv2.rectangle(img,(x,y),(x+w,y+h),(0,255,255),2)\n",
    "        cropped = img[y:y+h, x:x+w]\n",
    "    return cropped"
   ]
  },
  {
   "cell_type": "markdown",
   "metadata": {},
   "source": [
    "# Face Detection of Shrishti: Sending Whatsapp msg & Mail"
   ]
  },
  {
   "cell_type": "code",
   "execution_count": 8,
   "metadata": {},
   "outputs": [
    {
     "name": "stdout",
     "output_type": "stream",
     "text": [
      "Result value for my face :  (60, 33.10895844401124)\n",
      "Confidence value for my face :  91\n",
      "sending whatsapp message\n",
      "whatsapp message sent successful\n",
      "sending mail\n",
      "mail sent successful\n"
     ]
    }
   ],
   "source": [
    "#capturing Shrishti face\n",
    "cap = cv2.VideoCapture(0)\n",
    "ret, myframe = cap.read()\n",
    "\n",
    "#cropping image\n",
    "myface_cropimage = cropface(myframe)\n",
    "\n",
    "#change color of image to gray color \n",
    "myface_cropimage = cv2.cvtColor(myface_cropimage,cv2.COLOR_BGR2GRAY)\n",
    "\n",
    "#resizing the image\n",
    "myface_cropimage = cv2.resize(myface_cropimage,(200,200))\n",
    "\n",
    "#showing my image\n",
    "cv2.imshow(\"my crop photo\",myface_cropimage)\n",
    "cv2.waitKey()\n",
    "cv2.destroyAllWindows()\n",
    "\n",
    "#myface stroing into file\n",
    "cv2.imwrite(\"Shrishti_photo.jpg\",myface_cropimage)\n",
    "\n",
    "#release camera\n",
    "cap.release()\n",
    "\n",
    "# predicting the result of Shrishti face\n",
    "Shrishti_myface = Shrishti_model.predict(myface_cropimage)\n",
    "\n",
    "#printing prediction result value for my face\n",
    "print(\"Result value for my face : \" , Shrishti_myface)\n",
    "\n",
    "#confidence value for my face\n",
    "Shrishti_confidence = int( 100 * (1 - (Shrishti_myface[1])/400) )\n",
    "print(\"Confidence value for my face : \" , Shrishti_confidence)\n",
    "\n",
    "if Shrishti_confidence >= 80:\n",
    "    print(\"sending whatsapp message\")\n",
    "    whatsapp_msg_sent()\n",
    "    print(\"whatsapp message sent successful\")\n",
    "    \n",
    "    print(\"sending mail\")\n",
    "    email_sent()\n",
    "    print(\"mail sent successful\")\n",
    "\n",
    "else:\n",
    "    print(\"face not found\")"
   ]
  },
  {
   "cell_type": "markdown",
   "metadata": {},
   "source": [
    "# Face Detection of Laveena :  Launching Infrastructure(VPC) by Terraform"
   ]
  },
  {
   "cell_type": "code",
   "execution_count": 10,
   "metadata": {},
   "outputs": [
    {
     "name": "stdout",
     "output_type": "stream",
     "text": [
      "Result value for my face :  (76, 115.1753718401116)\n",
      "Confidence value for my face :  71\n",
      "face not found\n"
     ]
    }
   ],
   "source": [
    "#capturing Laveena face\n",
    "cap = cv2.VideoCapture(0)\n",
    "ret, myframe = cap.read()\n",
    "\n",
    "#cropping image\n",
    "myface_cropimage = cropface(myframe)\n",
    "\n",
    "#change color of image to gray color \n",
    "myface_cropimage = cv2.cvtColor(myface_cropimage,cv2.COLOR_BGR2GRAY)\n",
    "\n",
    "#resizing the image\n",
    "myface_cropimage = cv2.resize(myface_cropimage,(200,200))\n",
    "\n",
    "#showing my image\n",
    "cv2.imshow(\"my crop photo\",myface_cropimage)\n",
    "cv2.waitKey()\n",
    "cv2.destroyAllWindows()\n",
    "\n",
    "#myface stroing into file\n",
    "cv2.imwrite(\"Laveena_photo.jpg\",myface_cropimage)\n",
    "\n",
    "#release camera\n",
    "cap.release()\n",
    "\n",
    "# predicting the result of Shrishti face\n",
    "Laveena_myface = Laveena_model.predict(myface_cropimage)\n",
    "\n",
    "#printing prediction result value for my face\n",
    "print(\"Result value for my face : \" , Laveena_myface)\n",
    "\n",
    "#confidence value for my face\n",
    "Laveena_confidence = int( 100 * (1 - (Laveena_myface[1])/400) )\n",
    "print(\"Confidence value for my face : \" , Laveena_confidence)\n",
    "\n",
    "if Laveena_confidence >= 80:\n",
    "    print(\"Launching infrastructure by terraform\")\n",
    "    os.system(\"terraform init\")\n",
    "    os.system(\"terraform apply --auto-approve\")\n",
    "    print(\"Infrastructure launched successfully by Terraform..!!\")\n",
    "    \n",
    "else:\n",
    "    print(\"face not found\")"
   ]
  },
  {
   "cell_type": "markdown",
   "metadata": {},
   "source": [
    "# Face Detection of Tanushree : Launching AWS EC2 Instance & Creating EBS Volume"
   ]
  },
  {
   "cell_type": "code",
   "execution_count": 12,
   "metadata": {},
   "outputs": [
    {
     "name": "stdout",
     "output_type": "stream",
     "text": [
      "Result value for my face :  (74, 31.5856751891935)\n",
      "Confidence value for my face :  92\n",
      "launching ec2 instance\n",
      "Instance Launched\n",
      "launched ec2 instance\n",
      "creating ebs volume\n",
      "EBS volume Launched\n",
      "launched ebs volume\n"
     ]
    }
   ],
   "source": [
    "#capturing Tanushree face\n",
    "cap = cv2.VideoCapture(0)\n",
    "ret, myframe = cap.read()\n",
    "\n",
    "#cropping image\n",
    "myface_cropimage = cropface(myframe)\n",
    "\n",
    "#change color of image to gray color \n",
    "myface_cropimage = cv2.cvtColor(myface_cropimage,cv2.COLOR_BGR2GRAY)\n",
    "\n",
    "#resizing the image\n",
    "myface_cropimage = cv2.resize(myface_cropimage,(200,200))\n",
    "\n",
    "#showing my image\n",
    "cv2.imshow(\"my crop photo\",myface_cropimage)\n",
    "cv2.waitKey()\n",
    "cv2.destroyAllWindows()\n",
    "\n",
    "#myface stroing into file\n",
    "cv2.imwrite(\"Tanushree_photo.jpg\",myface_cropimage)\n",
    "\n",
    "#release camera\n",
    "cap.release()\n",
    "\n",
    "# predicting the result of Shrishti face\n",
    "Tanushree_myface = Tanushree_model.predict(myface_cropimage)\n",
    "\n",
    "#printing prediction result value for my face\n",
    "print(\"Result value for my face : \" , Tanushree_myface)\n",
    "\n",
    "#confidence value for my face\n",
    "Tanushree_confidence = int( 100 * (1 - (Tanushree_myface[1])/400) )\n",
    "print(\"Confidence value for my face : \" , Tanushree_confidence)\n",
    "\n",
    "if Tanushree_confidence >= 80:\n",
    "    print(\"launching ec2 instance\")\n",
    "    ec2_launch()\n",
    "    print(\"launched ec2 instance\")\n",
    "    print(\"creating ebs volume\")\n",
    "    ebs_launch()\n",
    "    print(\"launched ebs volume\")\n",
    "    \n",
    "else:\n",
    "    print(\"face not found\")"
   ]
  },
  {
   "cell_type": "code",
   "execution_count": null,
   "metadata": {},
   "outputs": [],
   "source": []
  }
 ],
 "metadata": {
  "kernelspec": {
   "display_name": "Python 3",
   "language": "python",
   "name": "python3"
  },
  "language_info": {
   "codemirror_mode": {
    "name": "ipython",
    "version": 3
   },
   "file_extension": ".py",
   "mimetype": "text/x-python",
   "name": "python",
   "nbconvert_exporter": "python",
   "pygments_lexer": "ipython3",
   "version": "3.8.3"
  }
 },
 "nbformat": 4,
 "nbformat_minor": 4
}
